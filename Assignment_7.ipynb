{
  "metadata": {
    "language_info": {
      "codemirror_mode": {
        "name": "python",
        "version": 3
      },
      "file_extension": ".py",
      "mimetype": "text/x-python",
      "name": "python",
      "nbconvert_exporter": "python",
      "pygments_lexer": "ipython3",
      "version": "3.8"
    },
    "kernelspec": {
      "name": "python",
      "display_name": "Python (Pyodide)",
      "language": "python"
    }
  },
  "nbformat_minor": 4,
  "nbformat": 4,
  "cells": [
    {
      "cell_type": "code",
      "source": "Numeric similarity and dissimilarty",
      "metadata": {},
      "execution_count": null,
      "outputs": []
    },
    {
      "cell_type": "code",
      "source": "#euclidean distance \nfrom math import*\n \ndef euclidean_distance(x,y):\n \n    return sqrt(sum(pow(a-b,2) for a, b in zip(x, y)))",
      "metadata": {
        "trusted": true
      },
      "execution_count": 1,
      "outputs": []
    },
    {
      "cell_type": "code",
      "source": "print(euclidean_distance([0,3,4,5],[7,6,3,-1]))\n",
      "metadata": {
        "trusted": true
      },
      "execution_count": 2,
      "outputs": [
        {
          "name": "stdout",
          "text": "9.746794344808963\n",
          "output_type": "stream"
        }
      ]
    },
    {
      "cell_type": "code",
      "source": "#manhattan distance \nfrom math import*\n \ndef manhattan_distance(x,y):\n \n    return sum(abs(a-b) for a,b in zip(x,y))\n",
      "metadata": {
        "trusted": true
      },
      "execution_count": 3,
      "outputs": []
    },
    {
      "cell_type": "code",
      "source": "print(manhattan_distance([10,20,10],[10,20,20]))\n",
      "metadata": {
        "trusted": true
      },
      "execution_count": 4,
      "outputs": [
        {
          "name": "stdout",
          "text": "10\n",
          "output_type": "stream"
        }
      ]
    },
    {
      "cell_type": "code",
      "source": "#minkowski distance \n\nfrom math import*\nfrom decimal import Decimal\n \ndef nth_root(value, n_root):\n \n    root_value = 1/float(n_root)\n    return round (Decimal(value) ** Decimal(root_value),3)\n \ndef minkowski_distance(x,y,p_value):\n \n    return nth_root(sum(pow(abs(a-b),p_value) for a,b in zip(x, y)),p_value)\n",
      "metadata": {
        "trusted": true
      },
      "execution_count": 5,
      "outputs": []
    },
    {
      "cell_type": "code",
      "source": "print (minkowski_distance([0,3,4,5],[7,6,3,-1],3))\n",
      "metadata": {
        "trusted": true
      },
      "execution_count": 6,
      "outputs": [
        {
          "name": "stdout",
          "text": "8.373\n",
          "output_type": "stream"
        }
      ]
    },
    {
      "cell_type": "code",
      "source": "cosine similarity and dissimilarty",
      "metadata": {},
      "execution_count": null,
      "outputs": []
    }
  ]
}